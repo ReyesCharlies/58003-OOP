{
  "cells": [
    {
      "cell_type": "markdown",
      "metadata": {
        "id": "view-in-github",
        "colab_type": "text"
      },
      "source": [
        "<a href=\"https://colab.research.google.com/github/ReyesCharlies/58003-OOP/blob/main/Lab%20Activity%202.ipynb\" target=\"_parent\"><img src=\"https://colab.research.google.com/assets/colab-badge.svg\" alt=\"Open In Colab\"/></a>"
      ]
    },
    {
      "cell_type": "code",
      "execution_count": 36,
      "metadata": {
        "colab": {
          "base_uri": "https://localhost:8080/"
        },
        "id": "qw3KwcNgqJ7u",
        "outputId": "63f5fb8d-6f2e-4fdf-eee7-5c88b6a447c3"
      },
      "outputs": [
        {
          "output_type": "stream",
          "name": "stdout",
          "text": [
            "Enter Radius\n",
            "10\n",
            "The Area of the Circle is\n",
            "314.0\n",
            "The Perimeter of the Circle is\n",
            "62.800000000000004\n"
          ]
        }
      ],
      "source": [
        "print('Enter Radius')\n",
        "r = int(input())\n",
        "pi = 3.14\n",
        "r2 = r*r\n",
        "a = pi*r2\n",
        "print('The Area of the Circle is')\n",
        "print(a)\n",
        "d = r*2\n",
        "p = pi*d\n",
        "print('The Perimeter of the Circle is')\n",
        "print(p)\n"
      ]
    },
    {
      "cell_type": "code",
      "source": [
        "class Circle():\n",
        "    def __init__(self, r):\n",
        "        self.radius = r\n",
        "\n",
        "    def area(self):\n",
        "        return self.radius**2*3.14\n",
        "    \n",
        "    def perimeter(self):\n",
        "        return 2*self.radius*3.14\n",
        "\n",
        "NewCircle = Circle(8)\n",
        "print(NewCircle.area())\n",
        "print(NewCircle.perimeter())"
      ],
      "metadata": {
        "colab": {
          "base_uri": "https://localhost:8080/"
        },
        "id": "6hTHW4VczAp3",
        "outputId": "f7d910b0-275d-4dd0-cb9d-891c93b3abe7"
      },
      "execution_count": 37,
      "outputs": [
        {
          "output_type": "stream",
          "name": "stdout",
          "text": [
            "200.96\n",
            "50.24\n"
          ]
        }
      ]
    },
    {
      "cell_type": "code",
      "source": [
        "class Rectangle():\n",
        "  def __init__(self,l,w):\n",
        "    self.length = l\n",
        "    self.width = w\n",
        "\n",
        "  def rectangle_area(self):\n",
        "    return self.length*self.width\n",
        "  def rectangle_perimeter(self):\n",
        "    return 2*(self.length+self.width)\n",
        "\n",
        "newRectangle = Rectangle(12,10)\n",
        "print(\"Area of rectangle:\",newRectangle.rectangle_area())\n",
        "\n",
        "newRectangle1 = Rectangle(12,10)\n",
        "print(\"Perimeter of rectangle\",newRectangle1.rectangle_perimeter())\n",
        "\n"
      ],
      "metadata": {
        "colab": {
          "base_uri": "https://localhost:8080/"
        },
        "id": "1XeQI6VX3pwF",
        "outputId": "4cfa4fd3-0533-4e13-db47-60a71896fd8f"
      },
      "execution_count": 42,
      "outputs": [
        {
          "output_type": "stream",
          "name": "stdout",
          "text": [
            "Area of rectangle: 120\n",
            "Perimeter of rectangle 44\n"
          ]
        }
      ]
    },
    {
      "cell_type": "code",
      "source": [
        "class Circle():\n",
        "\n",
        "    def __init__(self,col=\"white\",rad=1.0):\n",
        "\n",
        "        self.set_color(col)\n",
        "\n",
        "        self.set_radius(rad)\n",
        "\n",
        "    def set_color(self,col):\n",
        "\n",
        "        self.__color = col\n",
        "\n",
        "    def set_radius(self,rad):\n",
        "\n",
        "        if rad<=0:\n",
        "\n",
        "            print(\"Invalid radius -- set to default\")\n",
        "\n",
        "            self.__radius = 1.0\n",
        "\n",
        "        else:\n",
        "\n",
        "            self.__radius = rad\n",
        "\n",
        "    def __print_circle_information__(self):\n",
        "\n",
        "        print(\"The circle color is {} and it has {} as radius\". format(self.__color,self.__radius))\n",
        "\n",
        "    def __str__(self):\n",
        "\n",
        "        return \"The circle color is {} and it has {} as radius\". format(self.__color,self.__radius)\n",
        "\n",
        "    def __area_calculator__(self):\n",
        "\n",
        "        return 3.14 * self.__radius* self.__radius\n",
        "\n",
        "        \n",
        "\n",
        "    #The perimeter of the circle is (2*pi*r)\n",
        "\n",
        "    def __perimeter_calculator__(self):\n",
        "\n",
        "        return 2*3.14*self.__radius\n",
        "\n",
        "c1 = Circle();\n",
        "\n",
        "c1.__print_circle_information__()\n",
        "\n",
        "c2 = Circle(\"rad\", -5)\n",
        "\n",
        "c2.__print_circle_information__()\n",
        "\n",
        " \n",
        "\n",
        "new_col = input(\"Enter circle color : \")\n",
        "\n",
        "c1.set_color(new_col)\n",
        "\n",
        "c1.set_radius(10)\n",
        "\n",
        "c1.__print_circle_information__()\n",
        "\n",
        "print(c1)\n",
        "\n",
        "print(type(c2))\n",
        "\n",
        " \n",
        "\n",
        "print(\"The area of the circle is {} \".format(c1.__area_calculator__()))\n",
        "\n",
        "#i have printed the perimter of circle c1\n",
        "\n",
        "print(\"The perimeter of the circle is {} \".format(c1.__perimeter_calculator__()))"
      ],
      "metadata": {
        "colab": {
          "base_uri": "https://localhost:8080/"
        },
        "id": "wAwl-AA929Bg",
        "outputId": "611572c4-4816-4231-f395-f8824b2daf7d"
      },
      "execution_count": 38,
      "outputs": [
        {
          "output_type": "stream",
          "name": "stdout",
          "text": [
            "The circle color is white and it has 1.0 as radius\n",
            "Invalid radius -- set to default\n",
            "The circle color is rad and it has 1.0 as radius\n",
            "Enter circle color : 8\n",
            "The circle color is 8 and it has 10 as radius\n",
            "The circle color is 8 and it has 10 as radius\n",
            "<class '__main__.Circle'>\n",
            "The area of the circle is 314.0 \n",
            "The perimeter of the circle is 62.800000000000004 \n"
          ]
        }
      ]
    }
  ],
  "metadata": {
    "colab": {
      "provenance": [],
      "authorship_tag": "ABX9TyNxAQMOKg60ZMB4jtzoJgT/",
      "include_colab_link": true
    },
    "kernelspec": {
      "display_name": "Python 3",
      "name": "python3"
    },
    "language_info": {
      "name": "python"
    }
  },
  "nbformat": 4,
  "nbformat_minor": 0
}