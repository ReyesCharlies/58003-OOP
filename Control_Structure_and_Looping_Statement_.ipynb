{
  "nbformat": 4,
  "nbformat_minor": 0,
  "metadata": {
    "colab": {
      "provenance": [],
      "authorship_tag": "ABX9TyP0tCc3ymeu7aT7faHVS2yg",
      "include_colab_link": true
    },
    "kernelspec": {
      "name": "python3",
      "display_name": "Python 3"
    },
    "language_info": {
      "name": "python"
    }
  },
  "cells": [
    {
      "cell_type": "markdown",
      "metadata": {
        "id": "view-in-github",
        "colab_type": "text"
      },
      "source": [
        "<a href=\"https://colab.research.google.com/github/ReyesCharlies/58003-OOP/blob/main/Control_Structure_and_Looping_Statement_.ipynb\" target=\"_parent\"><img src=\"https://colab.research.google.com/assets/colab-badge.svg\" alt=\"Open In Colab\"/></a>"
      ]
    },
    {
      "cell_type": "markdown",
      "source": [
        "If Condition"
      ],
      "metadata": {
        "id": "budE8p667jYe"
      }
    },
    {
      "cell_type": "markdown",
      "source": [
        "If Condition"
      ],
      "metadata": {
        "id": "Fe2xmFd79Hno"
      }
    },
    {
      "cell_type": "code",
      "execution_count": 20,
      "metadata": {
        "id": "EEfsWJ957izQ"
      },
      "outputs": [],
      "source": [
        "if 3>5:\n",
        "  print(\"5 is greater than 3\")\n",
        "elif 5<3:\n",
        "  print(\"5 is less than 3\")"
      ]
    },
    {
      "cell_type": "code",
      "source": [
        "print(\"Type the grade level of the student\")\n",
        "print('1-6 = Elementary')\n",
        "print(\"6-12 = Secondary\")\n",
        "print(\"None of the choices above = Tertiary\")\n",
        "\n",
        "x = int(input())\n",
        "if x <= 6:\n",
        "  print(\"elem\")\n",
        "elif x <=12:\n",
        "  print(\"Second\")\n",
        "else :\n",
        "  print(\"Not in the choices\")"
      ],
      "metadata": {
        "colab": {
          "base_uri": "https://localhost:8080/"
        },
        "id": "pRtA7vlm_A4Q",
        "outputId": "ef6e8b5e-e18c-4225-d992-52199cbfd775"
      },
      "execution_count": 38,
      "outputs": [
        {
          "output_type": "stream",
          "name": "stdout",
          "text": [
            "Type the grade level of the student\n",
            "1-6 = Elementary\n",
            "6-12 = Secondary\n",
            "None of the choices above = Tertiary\n",
            "75\n",
            "Not in the choices\n"
          ]
        }
      ]
    },
    {
      "cell_type": "markdown",
      "source": [
        "Short Hand If"
      ],
      "metadata": {
        "id": "YGtEkWUWDAsv"
      }
    },
    {
      "cell_type": "code",
      "source": [
        "if a<b: print(\"is less than b\")"
      ],
      "metadata": {
        "id": "IGs6BVP1Cwk4"
      },
      "execution_count": null,
      "outputs": []
    },
    {
      "cell_type": "markdown",
      "source": [
        "Short Hand if..else\n"
      ],
      "metadata": {
        "id": "Z5pOmrqvCyo_"
      }
    },
    {
      "cell_type": "code",
      "source": [
        "a = 2\n",
        "b = 330\n",
        "print(\"a\") if a > b else print(\"b\")"
      ],
      "metadata": {
        "colab": {
          "base_uri": "https://localhost:8080/"
        },
        "id": "YWs5FIIyCBpp",
        "outputId": "320b7cfc-9c86-44e0-c3b8-2ffda6ae70ed"
      },
      "execution_count": 42,
      "outputs": [
        {
          "output_type": "stream",
          "name": "stdout",
          "text": [
            "330\n"
          ]
        }
      ]
    },
    {
      "cell_type": "code",
      "source": [
        "x = 41\n",
        "if x > 10:\n",
        "  print(\"above ten\")\n",
        "  if x > 20:\n",
        "    print(\"and above 20\")\n",
        "    if x > 30:\n",
        "      print(\"and above 30\")\n",
        "      if x > 40:\n",
        "        print(\"and above 40\")\n",
        "        if x < 50:\n",
        "          print(\"and less than 50\")\n",
        "else:\n",
        " print(\"Below ten\")"
      ],
      "metadata": {
        "colab": {
          "base_uri": "https://localhost:8080/"
        },
        "id": "-xWkqI23DtrX",
        "outputId": "ecfd717c-c24e-4bfa-b794-3eb39c40f3ea"
      },
      "execution_count": 51,
      "outputs": [
        {
          "output_type": "stream",
          "name": "stdout",
          "text": [
            "above ten\n",
            "and above 20\n",
            "and above 30\n",
            "and above 40\n",
            "and less than 50\n"
          ]
        }
      ]
    },
    {
      "cell_type": "markdown",
      "source": [
        "Example 1"
      ],
      "metadata": {
        "id": "MtNeCi1KLMGD"
      }
    },
    {
      "cell_type": "code",
      "source": [
        "x = int(input())\n",
        "if x >= 18:\n",
        "  print(\"Qualified\")\n",
        "else:\n",
        "  print(\"Not Qualified\")"
      ],
      "metadata": {
        "colab": {
          "base_uri": "https://localhost:8080/"
        },
        "id": "O4rJieCAH2Xc",
        "outputId": "73886b04-2d10-4387-9069-0bf6bef1175b"
      },
      "execution_count": 54,
      "outputs": [
        {
          "output_type": "stream",
          "name": "stdout",
          "text": [
            "49\n",
            "Qualified\n"
          ]
        }
      ]
    },
    {
      "cell_type": "markdown",
      "source": [
        "Example 2"
      ],
      "metadata": {
        "id": "spFVt2szLK5q"
      }
    },
    {
      "cell_type": "code",
      "source": [
        "x = int(input())\n",
        "if x >= 1:\n",
        "  print(\"Positive Number\")\n",
        "elif x <= -1:\n",
        "  print(\"Negative Number\")\n",
        "else:\n",
        "  print(\"Zero\")"
      ],
      "metadata": {
        "colab": {
          "base_uri": "https://localhost:8080/"
        },
        "id": "9Ndoke34Iioa",
        "outputId": "fd367f50-64c9-4ce8-f74a-77e66172277c"
      },
      "execution_count": 57,
      "outputs": [
        {
          "output_type": "stream",
          "name": "stdout",
          "text": [
            "8\n",
            "Positive Number\n"
          ]
        }
      ]
    },
    {
      "cell_type": "markdown",
      "source": [
        "Example 3"
      ],
      "metadata": {
        "id": "OYclea9QLJVT"
      }
    },
    {
      "cell_type": "code",
      "source": [
        "x = float(input())\n",
        "if x >= 70:\n",
        "  print(\"Passed\")\n",
        "elif x >= 65:\n",
        "  print(\"Remidial\")\n",
        "elif x < 0:\n",
        "  print(\"It will not accepted\")\n",
        "else:\n",
        "  print(\"Failed\")"
      ],
      "metadata": {
        "colab": {
          "base_uri": "https://localhost:8080/"
        },
        "id": "R3hpyRDMJTEm",
        "outputId": "e6d9b844-5441-4375-d8d2-fabb6be4af97"
      },
      "execution_count": 66,
      "outputs": [
        {
          "output_type": "stream",
          "name": "stdout",
          "text": [
            "-69\n",
            "It will not accept\n"
          ]
        }
      ]
    }
  ]
}