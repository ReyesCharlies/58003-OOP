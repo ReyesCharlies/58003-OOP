{
  "nbformat": 4,
  "nbformat_minor": 0,
  "metadata": {
    "colab": {
      "provenance": [],
      "authorship_tag": "ABX9TyMtnEAuqtu1bmAWP2iYZT3m",
      "include_colab_link": true
    },
    "kernelspec": {
      "name": "python3",
      "display_name": "Python 3"
    },
    "language_info": {
      "name": "python"
    }
  },
  "cells": [
    {
      "cell_type": "markdown",
      "metadata": {
        "id": "view-in-github",
        "colab_type": "text"
      },
      "source": [
        "<a href=\"https://colab.research.google.com/github/ReyesCharlies/58003-OOP/blob/main/Encapsulation_and_Inheritance.ipynb\" target=\"_parent\"><img src=\"https://colab.research.google.com/assets/colab-badge.svg\" alt=\"Open In Colab\"/></a>"
      ]
    },
    {
      "cell_type": "code",
      "execution_count": 1,
      "metadata": {
        "colab": {
          "base_uri": "https://localhost:8080/"
        },
        "id": "8rjDBQuJQPAq",
        "outputId": "b5d4adff-d40c-417b-ea5d-d3785c4839e0"
      },
      "outputs": [
        {
          "output_type": "execute_result",
          "data": {
            "text/plain": [
              "7"
            ]
          },
          "metadata": {},
          "execution_count": 1
        }
      ],
      "source": [
        "class foo:\n",
        "  def __init__(self,a,b):\n",
        "    self.a = a\n",
        "    self.b = b\n",
        "  def add(self):\n",
        "    return self.a + self.b\n",
        "foo__object = foo(3,4)\n",
        "foo__object.add()\n"
      ]
    },
    {
      "cell_type": "code",
      "source": [
        "class Counter:\n",
        "  def __init__(self,current):\n",
        "    self.current = 0\n",
        "  \n",
        "  def increment(self):\n",
        "    self.current += 1\n",
        "\n",
        "  def value(self):\n",
        "    return self.current\n",
        "\n",
        "  def reset(self):\n",
        "    self.current = 0\n",
        "  \n",
        "  def display_counter(self):\n",
        "    print('')"
      ],
      "metadata": {
        "id": "s4DyHmIOazh7"
      },
      "execution_count": 3,
      "outputs": []
    },
    {
      "cell_type": "code",
      "source": [
        "class Shape:\n",
        "  def __init__(self,side):\n",
        "    self.side = side\n",
        "  def display_sides(self):\n",
        "    print(self.side,'Number is the side of this Shape')\n",
        "\n",
        "class Pentagon(Shape):\n",
        "  pass\n",
        "class Hexagon(Shape):\n",
        "  pass\n",
        "class Heptagon(Shape):\n",
        "  pass\n",
        "class Octagon(Shape):\n",
        "  pass\n",
        "class Nonagon(Shape):\n",
        "  pass\n",
        "\n",
        "pentagon = Pentagon(5)\n",
        "hexagon = Hexagon(6)\n",
        "heptagon = Heptagon(7)\n",
        "octagon = Octagon(8)\n",
        "nonagon = Nonagon(9)\n",
        "\n",
        "pentagon.display_sides()\n",
        "hexagon.display_sides()\n",
        "heptagon.display_sides()\n",
        "octagon.display_sides()\n",
        "nonagon.display_sides()"
      ],
      "metadata": {
        "colab": {
          "base_uri": "https://localhost:8080/"
        },
        "id": "j2aQzNUaiNiB",
        "outputId": "c4514fca-cf86-479e-d4a3-4f023996a5c8"
      },
      "execution_count": 7,
      "outputs": [
        {
          "output_type": "stream",
          "name": "stdout",
          "text": [
            "5 Number is the side of this Shape\n",
            "6 Number is the side of this Shape\n",
            "7 Number is the side of this Shape\n",
            "8 Number is the side of this Shape\n",
            "9 Number is the side of this Shape\n"
          ]
        }
      ]
    }
  ]
}